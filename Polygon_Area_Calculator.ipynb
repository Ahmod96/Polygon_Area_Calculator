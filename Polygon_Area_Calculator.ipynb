{
 "cells": [
  {
   "cell_type": "code",
   "execution_count": 1,
   "id": "61ba37e4",
   "metadata": {},
   "outputs": [],
   "source": [
    "class Rectangle():\n",
    "    def __init__(self, width, height):\n",
    "        self.width = width\n",
    "        self.height = height\n",
    "        \n",
    "    def set_width(self, width):\n",
    "        self.width = width\n",
    "    \n",
    "    def set_height(self, height):\n",
    "        self.height = height\n",
    "    \n",
    "    def get_area(self):\n",
    "        return self.width * self.height\n",
    "    \n",
    "    def get_perimeter(self):\n",
    "        return 2 * self.width + 2 * self.height\n",
    "    \n",
    "    def get_diagonal(self):\n",
    "        return (self.width ** 2 + self.height ** 2) ** .5\n",
    "    \n",
    "    def get_picture(self):\n",
    "        if self.width > 50 or self.height > 50:\n",
    "            return 'Too big for picture.'\n",
    "        else:\n",
    "            return (('*'*self.width +'\\n') * self.height)\n",
    "        \n",
    "    def get_amount_inside(self, shape):\n",
    "        if shape.width > self.width or shape.height > self.height:\n",
    "            return 0\n",
    "        else:\n",
    "            return (self.height//shape.height) * (self.width//shape.width)\n",
    "    \n",
    "    def __str__(self):\n",
    "        return 'Rectangle(width=' + str(self.width) + ', height=' + str(self.height) +')'\n",
    "    \n",
    "class Square(Rectangle):\n",
    "    def __init__(self, side_lenght):\n",
    "        self.side_lenght = side_lenght\n",
    "        super().__init__(self.side_lenght, self.side_lenght)\n",
    "        \n",
    "    def set_side(self, side):\n",
    "        self.width = side\n",
    "        self.height = side\n",
    "        \n",
    "    def set_width(self, width):\n",
    "        super().set_width(width)\n",
    "        self.height = width\n",
    "    \n",
    "    def set_height(self, height):\n",
    "        super().set_height(height)\n",
    "        self.width= height\n",
    "    \n",
    "    def __str__(self):\n",
    "        super().__str__()\n",
    "        return 'Square(side=' + str(self.height) + ')'\n",
    " \n"
   ]
  },
  {
   "cell_type": "code",
   "execution_count": 2,
   "id": "29574ac0",
   "metadata": {},
   "outputs": [
    {
     "name": "stdout",
     "output_type": "stream",
     "text": [
      "50\n",
      "26\n",
      "Rectangle(width=10, height=3)\n",
      "**********\n",
      "**********\n",
      "**********\n",
      "\n"
     ]
    }
   ],
   "source": [
    "rect = Rectangle(10, 5)\n",
    "print(rect.get_area())\n",
    "rect.set_height(3)\n",
    "print(rect.get_perimeter())\n",
    "print(rect)\n",
    "print(rect.get_picture())"
   ]
  },
  {
   "cell_type": "code",
   "execution_count": 3,
   "id": "29dac0a1",
   "metadata": {},
   "outputs": [
    {
     "name": "stdout",
     "output_type": "stream",
     "text": [
      "81\n",
      "5.656854249492381\n",
      "Square(side=4)\n",
      "****\n",
      "****\n",
      "****\n",
      "****\n",
      "\n"
     ]
    }
   ],
   "source": [
    "sq = Square(9)\n",
    "print(sq.get_area())\n",
    "sq.set_side(4)\n",
    "print(sq.get_diagonal())\n",
    "print(sq)\n",
    "print(sq.get_picture())"
   ]
  },
  {
   "cell_type": "code",
   "execution_count": 4,
   "id": "75332b18",
   "metadata": {},
   "outputs": [
    {
     "name": "stdout",
     "output_type": "stream",
     "text": [
      "8\n"
     ]
    }
   ],
   "source": [
    "rect.set_height(8)\n",
    "rect.set_width(16)\n",
    "print(rect.get_amount_inside(sq))"
   ]
  },
  {
   "cell_type": "code",
   "execution_count": null,
   "id": "75d962a7",
   "metadata": {},
   "outputs": [],
   "source": [
    "https://replit.com/@Ahmod/boilerplate-polygon-area-calculator-2#shape_calculator.py"
   ]
  }
 ],
 "metadata": {
  "kernelspec": {
   "display_name": "Python 3 (ipykernel)",
   "language": "python",
   "name": "python3"
  },
  "language_info": {
   "codemirror_mode": {
    "name": "ipython",
    "version": 3
   },
   "file_extension": ".py",
   "mimetype": "text/x-python",
   "name": "python",
   "nbconvert_exporter": "python",
   "pygments_lexer": "ipython3",
   "version": "3.9.12"
  }
 },
 "nbformat": 4,
 "nbformat_minor": 5
}
